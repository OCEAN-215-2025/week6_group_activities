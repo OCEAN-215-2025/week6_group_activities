{
 "cells": [
  {
   "cell_type": "markdown",
   "metadata": {},
   "source": [
    "# Week 6 group activities"
   ]
  },
  {
   "cell_type": "code",
   "execution_count": null,
   "metadata": {},
   "outputs": [],
   "source": [
    "# import the required packages once and for all\n",
    "import numpy as np\n",
    "import pandas as pd\n",
    "import matplotlib.pyplot as plt"
   ]
  },
  {
   "cell_type": "markdown",
   "metadata": {
    "id": "KqdcwV6RdW9t"
   },
   "source": [
    "## Introduction to group coding exercises\n",
    "Today you’ll work on this exercise in the same groups of 3-4 you were assigned last week, submitting a single notebook file at the end of the class period. Decide amongst yourselves which member will upload the completed notebook to Gradescope this week. Make sure that everyone takes a turn being the “Uploader”. _You cannot upload the final code two weeks in a row._\n",
    "\n",
    "Designate a different group member to be the \"Reporter\". The Reporter will be in charge of participating in the group discussion at the end of the class session.\n",
    "\n",
    "### Workflow\n",
    "Each question will be timed to ensure that everyone gets to work on at least a part of every question. Group activities are not graded by completeness or correctness, but by effort. We will be breaking down each question in the following order:  \n",
    "1. Independent work \n",
    "2. Group work and discussion on coding question\n",
    "3. Group work and discussion on reflection questions\n",
    "\n",
    "You are welcome and encouraged to communicate with other groups and the teaching team when you feel stuck on a problem. \n",
    "\n",
    "As a reminder, we will be grading based best practices in coding. These include: \n",
    "1) Variables are used to store objects\n",
    "\n",
    "2) Make sure that your variable names are meaningful\n",
    "\n",
    "3) Format your code consistently\n",
    "\n",
    "4) Add comments to document your intention, as well as (less commonly) tricky implementation\n",
    "\n",
    "5) Documenting help from outside sources, such as from other groups or online documentation. \n",
    "\n",
    "6) Final notebook fully runs from start to finish. A good way to check this is restarting the kernel and fully running through all the cells to check for any errors.\n",
    "\n",
    "### Storing your answers\n",
    "In the code cells where you will write your answers, there will be comments denoting:\n",
    "\n",
    "\"**# your code**\"\n",
    "\n",
    "and \n",
    "\n",
    "\"**# answer variables**\"\n",
    "\n",
    "You may store any intermediary variables in the **your code** section. If you do not have any intermediary, you can also store your answer directly in the answer variables.\n",
    "\n",
    "### Required Plot Elements for Figures\n",
    "This assignments requires you to create and design figures using `matplotlib`. To practice good plotting practices, each figure will require the following to receive full points:\n",
    "1) Concise, descriptive title for each figure/subplot\n",
    "2) Axis labels with units (when possible)\n",
    "3) Appropriate axis limits (minimum and maximum)\n",
    "4) Appropriate tick resolution\n",
    "5) Legend when using different datasets \n",
    "6) Appropriate font size (a good range is 12-15)"
   ]
  },
  {
   "cell_type": "markdown",
   "metadata": {
    "id": "LQpT2M0HdmUF"
   },
   "source": [
    "## Note here **and in the Gradescope submission** each of your group members:\n",
    "1.\n",
    "2. \n",
    "3."
   ]
  },
  {
   "cell_type": "markdown",
   "metadata": {
    "id": "75Fru6pykhxR"
   },
   "source": [
    "## Question #1. Practice with `pandas`: Ballard Locks salmon counts (50 minutes)"
   ]
  },
  {
   "cell_type": "markdown",
   "metadata": {
    "deletable": false,
    "editable": false,
    "id": "arXwiCsM6wL1"
   },
   "source": [
    "<!-- BEGIN QUESTION -->\n",
    "\n",
    "## Part a. Loading and inspecting data (15 minutes)"
   ]
  },
  {
   "cell_type": "markdown",
   "metadata": {
    "deletable": false,
    "editable": false,
    "id": "arXwiCsM6wL1"
   },
   "source": [
    "Here are some local salmon data we can load and visualize using pandas! Let's first get an overview of the data by practicing some dataframe functions.\n",
    "\n",
    "We will load this data from the URL stored in the `filepath` string in the starter code cell below. Instead of downloading the data itself into the JupyterHub file system, we will practice pulling data directly into a pandas dataframe. \n",
    "\n",
    "### Instructions\n",
    "\n",
    "1. Load the salmon data URL into Pandas using the pandas `pd.read_csv()` function and store it into the `salmon_df` variable. Follow the steps below to supply additional arguments to `pd.read_csv()` function while loading the file:\n",
    "\n",
    "> * Specify that the first (positional index 0) column (the dates) should be the index.\n",
    ">\n",
    "> * Also specify that Pandas should parse the index as dates (datetimes).\n",
    ">\n",
    "> * Consult the documentation on [https://pandas.pydata.org/docs/reference/api/pandas.read_csv.html](https://pandas.pydata.org/pandas-docs/stable/reference/api/pandas.read_csv.html) to find the arguments that specify these two things.\n",
    "\n",
    "2. Display the data.\n",
    "\n",
    "3. Use `.describe()` to view the summary statistics.\n",
    "\n",
    "4. Answer the following questions with your group in a comment or a markdown cell below your code:\n",
    "\n",
    ">i. How many salmon species are counted?\n",
    ">\n",
    ">ii. What are the mean daily counts for each species?\n",
    ">\n",
    ">iii. What are the maximum daily counts for each species?"
   ]
  },
  {
   "cell_type": "code",
   "execution_count": null,
   "metadata": {
    "deletable": false,
    "editable": false,
    "id": "azv1gWhtWBUD",
    "tags": []
   },
   "outputs": [],
   "source": [
    "# starter code cell, DO NOT CHANGE THIS CODE!\n",
    "filepath = 'https://raw.githubusercontent.com/OCEAN-215-2025/week6_group_activities/refs/heads/main/data/ballard_salmon_counts.csv'"
   ]
  },
  {
   "cell_type": "code",
   "execution_count": null,
   "metadata": {
    "tags": [
     "otter_answer_cell"
    ]
   },
   "outputs": [],
   "source": [
    "# load your csv file from the url and store in here\n",
    "\n",
    "# display the DataFrame and its statistical summary\n"
   ]
  },
  {
   "cell_type": "markdown",
   "metadata": {
    "tags": [
     "otter_answer_cell"
    ]
   },
   "source": [
    "_Answer Part 4 in this markdown cell_\n",
    "\n",
    "i. ...\n",
    "\n",
    "ii. ...\n",
    "\n",
    "iii. ..."
   ]
  },
  {
   "cell_type": "markdown",
   "metadata": {
    "deletable": false,
    "editable": false,
    "id": "M_QJKrnm8uaH"
   },
   "source": [
    "<!-- END QUESTION -->\n",
    "\n",
    "<!-- BEGIN QUESTION -->\n",
    "\n",
    "## Part b: **Plot the data!** (20 minutes)"
   ]
  },
  {
   "cell_type": "markdown",
   "metadata": {
    "deletable": false,
    "editable": false,
    "id": "M_QJKrnm8uaH"
   },
   "source": [
    "### Instructions\n",
    "\n",
    "1. Use `ax.plot()` to make line plots of each of the three species' counts over time. In other words, the x-values should be datetimes from the index and the y-values should be daily salmon counts for each species. Your plot should have 3 different lines.\n",
    "2. Make each species the following colors for each line on your plot:\n",
    "> * Chinook: 'forestgreen'\n",
    ">\n",
    "> * Coho: 'darkcyan'\n",
    ">\n",
    "> * Sockeye: 'salmon'\n",
    ">\n",
    "\n",
    "\n",
    "3. Label your plot axes and add a title.\n",
    "4. Add a grid to your plot.\n",
    "5. Add a legend.\n",
    "6. Double check that your plot contains all the required elements as listed in the Assignment Instructions above."
   ]
  },
  {
   "cell_type": "code",
   "execution_count": null,
   "metadata": {
    "id": "KROWGW8dWCsd",
    "tags": [
     "otter_answer_cell"
    ]
   },
   "outputs": [],
   "source": [
    "# your plot here\n",
    "fig = plt.figure()\n",
    "ax = fig.add_subplot()\n",
    "\n",
    "plt.show(fig)"
   ]
  },
  {
   "cell_type": "markdown",
   "metadata": {
    "deletable": false,
    "editable": false,
    "id": "2qGdvYufAY__"
   },
   "source": [
    "<!-- END QUESTION -->\n",
    "\n",
    "<!-- BEGIN QUESTION -->\n",
    "\n",
    "## Part c: **slicing data to discover information** (20 minutes)"
   ]
  },
  {
   "cell_type": "markdown",
   "metadata": {
    "deletable": false,
    "editable": false,
    "id": "2qGdvYufAY__"
   },
   "source": [
    "1. Use indexing to find out how many coho salmon passed through Ballard Locks on September 30, 2020, the day that Autumn Quarter started at UW in year 2020. Store this number in the `coho_count` variable without hardcoding. \n",
    "> _Hint:_ you'll need `.loc[]` and a conditional to do this\n",
    "\n",
    "2. Combine `.loc[]` with slicing (`:`) to get the sockeye salmon counts for all dates in the years specified below. Make sure to print the results to check that they're correct.\n",
    "> * First, do this for 2020. Save the result as a new variable, `sockeye_2020`.\n",
    ">\n",
    "> * Then, do the same for 2013. Save this as `sockeye_2013`.\n",
    ">\n",
    "\n",
    "\n",
    "3. Apply NumPy functions to `sockeye_2020` and `sockeye_2013` to find the following and store in their corresponding answer variables:\n",
    "> * The maximum daily sockeye count in each year (2013 and 2020).\n",
    ">\n",
    "> * The total number of sockeye that passed through Ballard Locks in each year.\n",
    ">\n",
    "Print (via `print()`) the 4 resulting numbers."
   ]
  },
  {
   "cell_type": "code",
   "execution_count": null,
   "metadata": {
    "tags": [
     "otter_answer_cell"
    ]
   },
   "outputs": [],
   "source": [
    "# Your code for step 1\n",
    "\n",
    "# print out the results\n",
    "\n",
    "\n",
    "# Your code for step 2\n",
    "\n",
    "# Your code for step 3\n",
    "\n",
    "# print out the results\n"
   ]
  },
  {
   "cell_type": "markdown",
   "metadata": {
    "deletable": false,
    "editable": false,
    "id": "9942aIgsl_nh"
   },
   "source": [
    "<!-- END QUESTION -->\n",
    "\n",
    "## Q.1 Reflection questions (5 minutes)"
   ]
  },
  {
   "cell_type": "markdown",
   "metadata": {
    "id": "9942aIgsl_nh"
   },
   "source": [
    "The purpose of the reflection is to inform us as instructors about students comfort level with course content. We use these answers to inform how we spend class time and design coursework in subsequent weeks. This question is graded for completeness, so please answer each question in the text box below. Be concise in your answers (max. 2 sentences). \n",
    "\n",
    "1) What do you feel you excelled at in this exercise? Why?\n",
    "\n",
    "2) What did you struggle with most in the exercise? Why?\n",
    "\n",
    "3) Is there any section of the question that you did not complete? If so, briefly describe why and the section you spent the most time on. \n",
    "\n",
    "4) Is there any topic you feel we need to revisit or review in class? Why?"
   ]
  },
  {
   "cell_type": "markdown",
   "metadata": {},
   "source": [
    "1)\n",
    "\n",
    "2)\n",
    "\n",
    "3)\n",
    "\n",
    "4)"
   ]
  },
  {
   "cell_type": "markdown",
   "metadata": {},
   "source": [
    "## Question #2: Practice with `pandas` and .csv files "
   ]
  },
  {
   "cell_type": "markdown",
   "metadata": {
    "deletable": false,
    "editable": false
   },
   "source": [
    "<!-- BEGIN QUESTION -->\n",
    "\n",
    "## Part a. Loading and inspecting data (10 minutes)"
   ]
  },
  {
   "cell_type": "markdown",
   "metadata": {
    "deletable": false,
    "editable": false
   },
   "source": [
    "Download the three .csv files titled `cruise_data_0.csv`, `cruise_data_1.csv`, and `cruise_data_2.csv` and upload them to your JupyterHub under a `data` folder in the directory that contains your Jupyter notebook. Each of these files contains data for 5 different pigments representing different phytoplankton groups, taken from three different cruises (for more info, see this link: https://www-air.larc.nasa.gov/missions/pacepax/). Next, \n",
    "\n",
    "1. load in the data in three separate variables\n",
    "\n",
    "2. display each of them\n",
    "\n",
    "3. Keep note of which variable is which cruise for the next part."
   ]
  },
  {
   "cell_type": "code",
   "execution_count": null,
   "metadata": {
    "tags": [
     "otter_answer_cell"
    ]
   },
   "outputs": [],
   "source": [
    "# Your codes for part (a)\n"
   ]
  },
  {
   "cell_type": "markdown",
   "metadata": {
    "deletable": false,
    "editable": false
   },
   "source": [
    "<!-- END QUESTION -->\n",
    "\n",
    "<!-- BEGIN QUESTION -->\n",
    "\n",
    "## Part b. Combining data in pandas (15 minutes)"
   ]
  },
  {
   "cell_type": "markdown",
   "metadata": {
    "deletable": false,
    "editable": false
   },
   "source": [
    "Suppose you want to pool together the data from the 3 cruises for further analysis, but also want to keep track of which data comes from which source. To do so,\n",
    "\n",
    "1. For each of the DataFrame from part (a), add a new column called `cruise` and use it to store the cruise number.\n",
    "\n",
    "2. Use `pd.concat()` to merge the 3 DataFrames into a single one.\n",
    "\n",
    "3. Display the new dataset and ensure that the `cruise` column starts at 0, then goes to 1 and finally 2 in order.\n",
    "\n",
    "4. Finally, save this new dataset as a new .csv file. Title it anything you think is reasonable."
   ]
  },
  {
   "cell_type": "code",
   "execution_count": null,
   "metadata": {
    "tags": [
     "otter_answer_cell"
    ]
   },
   "outputs": [],
   "source": [
    "# Your codes for part (b)\n"
   ]
  },
  {
   "cell_type": "markdown",
   "metadata": {
    "deletable": false,
    "editable": false
   },
   "source": [
    "<!-- END QUESTION -->\n",
    "\n",
    "<!-- BEGIN QUESTION -->\n",
    "\n",
    "## (Optional) Part c. Sorting data"
   ]
  },
  {
   "cell_type": "markdown",
   "metadata": {
    "deletable": false,
    "editable": false
   },
   "source": [
    "Earlier, we combined the three datasets by cruise number in ascending order. Instead, we want to combine them by date in ascending order.\n",
    "\n",
    "1. First, use pandas to format the `date` column in your combined dataset from part 2 into datetime values.\n",
    "\n",
    "2. Then, sort your dataset by ascending order using the date column (HINT: look up the `.sort_values()` and `.reset_index()` functions in pandas).\n",
    "\n",
    "3. Display the first 20 rows of the data to check if your data is organized by time correctly.\n",
    "\n",
    "4. Based on the result from step 3, determine if the cruises overlap in time. (Use the provided markdown cell to record your findings)"
   ]
  },
  {
   "cell_type": "code",
   "execution_count": null,
   "metadata": {
    "tags": [
     "otter_answer_cell"
    ]
   },
   "outputs": [],
   "source": [
    "# Your codes for part (c)\n"
   ]
  },
  {
   "cell_type": "markdown",
   "metadata": {
    "tags": [
     "otter_answer_cell"
    ]
   },
   "source": [
    "_Your response for step 4_"
   ]
  },
  {
   "cell_type": "markdown",
   "metadata": {
    "deletable": false,
    "editable": false,
    "id": "9942aIgsl_nh"
   },
   "source": [
    "<!-- END QUESTION -->\n",
    "\n",
    "## Q.2 Reflection questions (5 minutes)"
   ]
  },
  {
   "cell_type": "markdown",
   "metadata": {
    "id": "9942aIgsl_nh"
   },
   "source": [
    "The purpose of the reflection is to inform us as instructors about students comfort level with course content. We use these answers to inform how we spend class time and design coursework in subsequent weeks. This question is graded for completeness, so please answer each question in the text box below. Be concise in your answers (max. 2 sentences). \n",
    "\n",
    "1) What do you feel you excelled at in this exercise? Why?\n",
    "\n",
    "2) What did you struggle with most in the exercise? Why?\n",
    "\n",
    "3) Is there any section of the question that you did not complete? If so, briefly describe why and the section you spent the most time on. \n",
    "\n",
    "4) Is there any topic you feel we need to revisit or review in class? Why?"
   ]
  },
  {
   "cell_type": "markdown",
   "metadata": {},
   "source": [
    "1)\n",
    "\n",
    "2)\n",
    "\n",
    "3)\n",
    "\n",
    "4)"
   ]
  },
  {
   "cell_type": "markdown",
   "metadata": {
    "deletable": false,
    "editable": false
   },
   "source": [
    "## Check that your codes run without errors"
   ]
  },
  {
   "cell_type": "markdown",
   "metadata": {
    "deletable": false,
    "editable": false,
    "otter": {
     "tests": [
      "completion"
     ]
    }
   },
   "source": [
    "Please check that your code runs without error when the notebook is executed from top to bottom. You may find the \"Restart the kernel and run all cells\" option (selectable using the `⏩` icon) useful."
   ]
  }
 ],
 "metadata": {
  "colab": {
   "provenance": [
    {
     "file_id": "17Vgryj4ZiprQ93dGV6lYANwXoBTMhnE2",
     "timestamp": 1667505149985
    }
   ]
  },
  "kernelspec": {
   "display_name": "Python 3 (ipykernel)",
   "language": "python",
   "name": "python3"
  },
  "language_info": {
   "codemirror_mode": {
    "name": "ipython",
    "version": 3
   },
   "file_extension": ".py",
   "mimetype": "text/x-python",
   "name": "python",
   "nbconvert_exporter": "python",
   "pygments_lexer": "ipython3",
   "version": "3.11.13"
  },
  "otter": {
   "OK_FORMAT": true,
   "tests": {
    "completion": {
     "name": "completion",
     "points": 0,
     "suites": [
      {
       "cases": [],
       "scored": true,
       "setup": "",
       "teardown": "",
       "type": "doctest"
      }
     ]
    }
   }
  }
 },
 "nbformat": 4,
 "nbformat_minor": 4
}
